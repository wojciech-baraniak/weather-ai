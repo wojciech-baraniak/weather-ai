{
 "cells": [
  {
   "cell_type": "code",
   "execution_count": 258,
   "metadata": {},
   "outputs": [
    {
     "name": "stdout",
     "output_type": "stream",
     "text": [
      "Coordinates 52.5483283996582°N 13.407821655273438°E\n",
      "Elevation 38.0 m asl\n",
      "Timezone b'Europe/Berlin' b'CEST'\n",
      "Timezone difference to GMT+0 7200 s\n",
      "                            date  temperature_2m  dew_point_2m  rain  \\\n",
      "0      1989-12-31 22:00:00+00:00          -1.261        -1.961   0.0   \n",
      "1      1989-12-31 23:00:00+00:00          -1.111        -1.911   0.0   \n",
      "2      1990-01-01 00:00:00+00:00          -1.311        -2.111   0.0   \n",
      "3      1990-01-01 01:00:00+00:00          -1.311        -2.511   0.0   \n",
      "4      1990-01-01 02:00:00+00:00          -1.461        -3.211   0.0   \n",
      "...                          ...             ...           ...   ...   \n",
      "175339 2010-01-01 17:00:00+00:00          -2.811        -5.511   0.0   \n",
      "175340 2010-01-01 18:00:00+00:00          -3.161        -5.761   0.0   \n",
      "175341 2010-01-01 19:00:00+00:00          -2.911        -5.011   0.0   \n",
      "175342 2010-01-01 20:00:00+00:00          -2.961        -4.911   0.0   \n",
      "175343 2010-01-01 21:00:00+00:00          -2.911        -4.761   0.0   \n",
      "\n",
      "        snowfall  surface_pressure  cloud_cover  et0_fao_evapotranspiration  \\\n",
      "0           0.00       1017.432617    84.599998                    0.000000   \n",
      "1           0.00       1017.335876    83.699997                    0.000000   \n",
      "2           0.00       1017.232788    84.599998                    0.000000   \n",
      "3           0.00       1016.934265    84.599998                    0.000000   \n",
      "4           0.00       1016.632935    82.799995                    0.000000   \n",
      "...          ...               ...          ...                         ...   \n",
      "175339      0.00        995.112122   100.000000                    0.003735   \n",
      "175340      0.00        995.603455   100.000000                    0.002769   \n",
      "175341      0.07        996.304688   100.000000                    0.000725   \n",
      "175342      0.07        997.000488   100.000000                    0.000000   \n",
      "175343      0.07        997.498962   100.000000                    0.000000   \n",
      "\n",
      "        wind_speed_10m  soil_temperature_0_to_7cm  soil_moisture_0_to_7cm  \\\n",
      "0             3.319036                     -0.361                   0.350   \n",
      "1             3.396233                     -0.311                   0.350   \n",
      "2             3.075841                     -0.361                   0.350   \n",
      "3             3.259938                     -0.361                   0.350   \n",
      "4             3.259938                     -0.361                   0.350   \n",
      "...                ...                        ...                     ...   \n",
      "175339       10.805998                     -0.561                   0.368   \n",
      "175340       10.315115                     -0.561                   0.368   \n",
      "175341       10.464797                     -0.561                   0.368   \n",
      "175342        9.983106                     -0.561                   0.368   \n",
      "175343        9.504273                     -0.561                   0.368   \n",
      "\n",
      "            time     month  \n",
      "0       0.916667  1.000000  \n",
      "1       0.958333  1.000000  \n",
      "2       0.000000  0.083333  \n",
      "3       0.041667  0.083333  \n",
      "4       0.083333  0.083333  \n",
      "...          ...       ...  \n",
      "175339  0.708333  0.083333  \n",
      "175340  0.750000  0.083333  \n",
      "175341  0.791667  0.083333  \n",
      "175342  0.833333  0.083333  \n",
      "175343  0.875000  0.083333  \n",
      "\n",
      "[175344 rows x 13 columns]\n",
      "date                          datetime64[ns, UTC]\n",
      "temperature_2m                            float32\n",
      "dew_point_2m                              float32\n",
      "rain                                      float32\n",
      "snowfall                                  float32\n",
      "surface_pressure                          float32\n",
      "cloud_cover                               float32\n",
      "et0_fao_evapotranspiration                float32\n",
      "wind_speed_10m                            float32\n",
      "soil_temperature_0_to_7cm                 float32\n",
      "soil_moisture_0_to_7cm                    float32\n",
      "time                                      float64\n",
      "month                                     float64\n",
      "dtype: object\n"
     ]
    }
   ],
   "source": [
    "import openmeteo_requests\n",
    "\n",
    "import requests_cache\n",
    "import pandas as pd\n",
    "from retry_requests import retry\n",
    "\n",
    "# Setup the Open-Meteo API client with cache and retry on error\n",
    "cache_session = requests_cache.CachedSession('.cache', expire_after = -1)\n",
    "retry_session = retry(cache_session, retries = 5, backoff_factor = 0.2)\n",
    "openmeteo = openmeteo_requests.Client(session = retry_session)\n",
    "\n",
    "# Make sure all required weather variables are listed here\n",
    "# The order of variables in hourly or daily is important to assign them correctly below\n",
    "url = \"https://archive-api.open-meteo.com/v1/archive\"\n",
    "params = {\n",
    "\t\"latitude\": 52.52,\n",
    "\t\"longitude\": 13.41,\n",
    "\t\"start_date\": \"1990-01-01\",\n",
    "\t\"end_date\": \"2010-01-01\",\n",
    "\t\"hourly\": [\"temperature_2m\", \"dew_point_2m\", \"rain\", \"snowfall\", \"surface_pressure\", \"cloud_cover\", \"et0_fao_evapotranspiration\", \"wind_speed_10m\", \"soil_temperature_0_to_7cm\", \"soil_moisture_0_to_7cm\"],\n",
    "\t\"timezone\": \"Europe/Berlin\"\n",
    "}\n",
    "responses = openmeteo.weather_api(url, params=params)\n",
    "\n",
    "# Process first location. Add a for-loop for multiple locations or weather models\n",
    "response = responses[0]\n",
    "print(f\"Coordinates {response.Latitude()}°N {response.Longitude()}°E\")\n",
    "print(f\"Elevation {response.Elevation()} m asl\")\n",
    "print(f\"Timezone {response.Timezone()} {response.TimezoneAbbreviation()}\")\n",
    "print(f\"Timezone difference to GMT+0 {response.UtcOffsetSeconds()} s\")\n",
    "\n",
    "# Process hourly data. The order of variables needs to be the same as requested.\n",
    "hourly = response.Hourly()\n",
    "hourly_temperature_2m = hourly.Variables(0).ValuesAsNumpy()\n",
    "hourly_dew_point_2m = hourly.Variables(1).ValuesAsNumpy()\n",
    "hourly_rain = hourly.Variables(2).ValuesAsNumpy()\n",
    "hourly_snowfall = hourly.Variables(3).ValuesAsNumpy()\n",
    "hourly_surface_pressure = hourly.Variables(4).ValuesAsNumpy()\n",
    "hourly_cloud_cover = hourly.Variables(5).ValuesAsNumpy()\n",
    "hourly_et0_fao_evapotranspiration = hourly.Variables(6).ValuesAsNumpy()\n",
    "hourly_wind_speed_10m = hourly.Variables(7).ValuesAsNumpy()\n",
    "hourly_soil_temperature_0_to_7cm = hourly.Variables(8).ValuesAsNumpy()\n",
    "hourly_soil_moisture_0_to_7cm = hourly.Variables(9).ValuesAsNumpy()\n",
    "\n",
    "hourly_data = {\"date\": pd.date_range(\n",
    "\tstart = pd.to_datetime(hourly.Time(), unit = \"s\", utc = True),\n",
    "\tend = pd.to_datetime(hourly.TimeEnd(), unit = \"s\", utc = True),\n",
    "\tfreq = pd.Timedelta(seconds = hourly.Interval()),\n",
    "\tinclusive = \"left\"\n",
    ")}\n",
    "hourly_data[\"temperature_2m\"] = hourly_temperature_2m\n",
    "hourly_data[\"dew_point_2m\"] = hourly_dew_point_2m\n",
    "hourly_data[\"rain\"] = hourly_rain\n",
    "hourly_data[\"snowfall\"] = hourly_snowfall\n",
    "hourly_data[\"surface_pressure\"] = hourly_surface_pressure\n",
    "hourly_data[\"cloud_cover\"] = hourly_cloud_cover\n",
    "hourly_data[\"et0_fao_evapotranspiration\"] = hourly_et0_fao_evapotranspiration\n",
    "hourly_data[\"wind_speed_10m\"] = hourly_wind_speed_10m\n",
    "hourly_data[\"soil_temperature_0_to_7cm\"] = hourly_soil_temperature_0_to_7cm\n",
    "hourly_data[\"soil_moisture_0_to_7cm\"] = hourly_soil_moisture_0_to_7cm\n",
    "\n",
    "hourly_dataframe = pd.DataFrame(data = hourly_data)\n",
    "hourly_dataframe['time'] = (hourly_dataframe['date'].dt.hour)/24\n",
    "hourly_dataframe['month'] = (hourly_dataframe['date'].dt.month)/12\n",
    "print(hourly_dataframe)\n",
    "print(hourly_dataframe.dtypes)\n",
    "\n"
   ]
  },
  {
   "cell_type": "code",
   "execution_count": 259,
   "metadata": {},
   "outputs": [
    {
     "data": {
      "text/html": [
       "<div>\n",
       "<style scoped>\n",
       "    .dataframe tbody tr th:only-of-type {\n",
       "        vertical-align: middle;\n",
       "    }\n",
       "\n",
       "    .dataframe tbody tr th {\n",
       "        vertical-align: top;\n",
       "    }\n",
       "\n",
       "    .dataframe thead th {\n",
       "        text-align: right;\n",
       "    }\n",
       "</style>\n",
       "<table border=\"1\" class=\"dataframe\">\n",
       "  <thead>\n",
       "    <tr style=\"text-align: right;\">\n",
       "      <th></th>\n",
       "      <th>date</th>\n",
       "      <th>temperature_2m</th>\n",
       "      <th>dew_point_2m</th>\n",
       "      <th>rain</th>\n",
       "      <th>snowfall</th>\n",
       "      <th>surface_pressure</th>\n",
       "      <th>cloud_cover</th>\n",
       "      <th>et0_fao_evapotranspiration</th>\n",
       "      <th>wind_speed_10m</th>\n",
       "      <th>soil_temperature_0_to_7cm</th>\n",
       "      <th>soil_moisture_0_to_7cm</th>\n",
       "      <th>time</th>\n",
       "      <th>month</th>\n",
       "    </tr>\n",
       "  </thead>\n",
       "  <tbody>\n",
       "    <tr>\n",
       "      <th>0</th>\n",
       "      <td>1989-12-31 22:00:00+00:00</td>\n",
       "      <td>-1.261</td>\n",
       "      <td>-1.961</td>\n",
       "      <td>0.0</td>\n",
       "      <td>0.00</td>\n",
       "      <td>1017.432617</td>\n",
       "      <td>84.599998</td>\n",
       "      <td>0.000000</td>\n",
       "      <td>3.319036</td>\n",
       "      <td>-0.361</td>\n",
       "      <td>0.350</td>\n",
       "      <td>0.916667</td>\n",
       "      <td>1.000000</td>\n",
       "    </tr>\n",
       "    <tr>\n",
       "      <th>1</th>\n",
       "      <td>1989-12-31 23:00:00+00:00</td>\n",
       "      <td>-1.111</td>\n",
       "      <td>-1.911</td>\n",
       "      <td>0.0</td>\n",
       "      <td>0.00</td>\n",
       "      <td>1017.335876</td>\n",
       "      <td>83.699997</td>\n",
       "      <td>0.000000</td>\n",
       "      <td>3.396233</td>\n",
       "      <td>-0.311</td>\n",
       "      <td>0.350</td>\n",
       "      <td>0.958333</td>\n",
       "      <td>1.000000</td>\n",
       "    </tr>\n",
       "    <tr>\n",
       "      <th>2</th>\n",
       "      <td>1990-01-01 00:00:00+00:00</td>\n",
       "      <td>-1.311</td>\n",
       "      <td>-2.111</td>\n",
       "      <td>0.0</td>\n",
       "      <td>0.00</td>\n",
       "      <td>1017.232788</td>\n",
       "      <td>84.599998</td>\n",
       "      <td>0.000000</td>\n",
       "      <td>3.075841</td>\n",
       "      <td>-0.361</td>\n",
       "      <td>0.350</td>\n",
       "      <td>0.000000</td>\n",
       "      <td>0.083333</td>\n",
       "    </tr>\n",
       "    <tr>\n",
       "      <th>3</th>\n",
       "      <td>1990-01-01 01:00:00+00:00</td>\n",
       "      <td>-1.311</td>\n",
       "      <td>-2.511</td>\n",
       "      <td>0.0</td>\n",
       "      <td>0.00</td>\n",
       "      <td>1016.934265</td>\n",
       "      <td>84.599998</td>\n",
       "      <td>0.000000</td>\n",
       "      <td>3.259938</td>\n",
       "      <td>-0.361</td>\n",
       "      <td>0.350</td>\n",
       "      <td>0.041667</td>\n",
       "      <td>0.083333</td>\n",
       "    </tr>\n",
       "    <tr>\n",
       "      <th>4</th>\n",
       "      <td>1990-01-01 02:00:00+00:00</td>\n",
       "      <td>-1.461</td>\n",
       "      <td>-3.211</td>\n",
       "      <td>0.0</td>\n",
       "      <td>0.00</td>\n",
       "      <td>1016.632935</td>\n",
       "      <td>82.799995</td>\n",
       "      <td>0.000000</td>\n",
       "      <td>3.259938</td>\n",
       "      <td>-0.361</td>\n",
       "      <td>0.350</td>\n",
       "      <td>0.083333</td>\n",
       "      <td>0.083333</td>\n",
       "    </tr>\n",
       "    <tr>\n",
       "      <th>...</th>\n",
       "      <td>...</td>\n",
       "      <td>...</td>\n",
       "      <td>...</td>\n",
       "      <td>...</td>\n",
       "      <td>...</td>\n",
       "      <td>...</td>\n",
       "      <td>...</td>\n",
       "      <td>...</td>\n",
       "      <td>...</td>\n",
       "      <td>...</td>\n",
       "      <td>...</td>\n",
       "      <td>...</td>\n",
       "      <td>...</td>\n",
       "    </tr>\n",
       "    <tr>\n",
       "      <th>175339</th>\n",
       "      <td>2010-01-01 17:00:00+00:00</td>\n",
       "      <td>-2.811</td>\n",
       "      <td>-5.511</td>\n",
       "      <td>0.0</td>\n",
       "      <td>0.00</td>\n",
       "      <td>995.112122</td>\n",
       "      <td>100.000000</td>\n",
       "      <td>0.003735</td>\n",
       "      <td>10.805998</td>\n",
       "      <td>-0.561</td>\n",
       "      <td>0.368</td>\n",
       "      <td>0.708333</td>\n",
       "      <td>0.083333</td>\n",
       "    </tr>\n",
       "    <tr>\n",
       "      <th>175340</th>\n",
       "      <td>2010-01-01 18:00:00+00:00</td>\n",
       "      <td>-3.161</td>\n",
       "      <td>-5.761</td>\n",
       "      <td>0.0</td>\n",
       "      <td>0.00</td>\n",
       "      <td>995.603455</td>\n",
       "      <td>100.000000</td>\n",
       "      <td>0.002769</td>\n",
       "      <td>10.315115</td>\n",
       "      <td>-0.561</td>\n",
       "      <td>0.368</td>\n",
       "      <td>0.750000</td>\n",
       "      <td>0.083333</td>\n",
       "    </tr>\n",
       "    <tr>\n",
       "      <th>175341</th>\n",
       "      <td>2010-01-01 19:00:00+00:00</td>\n",
       "      <td>-2.911</td>\n",
       "      <td>-5.011</td>\n",
       "      <td>0.0</td>\n",
       "      <td>0.07</td>\n",
       "      <td>996.304688</td>\n",
       "      <td>100.000000</td>\n",
       "      <td>0.000725</td>\n",
       "      <td>10.464797</td>\n",
       "      <td>-0.561</td>\n",
       "      <td>0.368</td>\n",
       "      <td>0.791667</td>\n",
       "      <td>0.083333</td>\n",
       "    </tr>\n",
       "    <tr>\n",
       "      <th>175342</th>\n",
       "      <td>2010-01-01 20:00:00+00:00</td>\n",
       "      <td>-2.961</td>\n",
       "      <td>-4.911</td>\n",
       "      <td>0.0</td>\n",
       "      <td>0.07</td>\n",
       "      <td>997.000488</td>\n",
       "      <td>100.000000</td>\n",
       "      <td>0.000000</td>\n",
       "      <td>9.983106</td>\n",
       "      <td>-0.561</td>\n",
       "      <td>0.368</td>\n",
       "      <td>0.833333</td>\n",
       "      <td>0.083333</td>\n",
       "    </tr>\n",
       "    <tr>\n",
       "      <th>175343</th>\n",
       "      <td>2010-01-01 21:00:00+00:00</td>\n",
       "      <td>-2.911</td>\n",
       "      <td>-4.761</td>\n",
       "      <td>0.0</td>\n",
       "      <td>0.07</td>\n",
       "      <td>997.498962</td>\n",
       "      <td>100.000000</td>\n",
       "      <td>0.000000</td>\n",
       "      <td>9.504273</td>\n",
       "      <td>-0.561</td>\n",
       "      <td>0.368</td>\n",
       "      <td>0.875000</td>\n",
       "      <td>0.083333</td>\n",
       "    </tr>\n",
       "  </tbody>\n",
       "</table>\n",
       "<p>175344 rows × 13 columns</p>\n",
       "</div>"
      ],
      "text/plain": [
       "                            date  temperature_2m  dew_point_2m  rain  \\\n",
       "0      1989-12-31 22:00:00+00:00          -1.261        -1.961   0.0   \n",
       "1      1989-12-31 23:00:00+00:00          -1.111        -1.911   0.0   \n",
       "2      1990-01-01 00:00:00+00:00          -1.311        -2.111   0.0   \n",
       "3      1990-01-01 01:00:00+00:00          -1.311        -2.511   0.0   \n",
       "4      1990-01-01 02:00:00+00:00          -1.461        -3.211   0.0   \n",
       "...                          ...             ...           ...   ...   \n",
       "175339 2010-01-01 17:00:00+00:00          -2.811        -5.511   0.0   \n",
       "175340 2010-01-01 18:00:00+00:00          -3.161        -5.761   0.0   \n",
       "175341 2010-01-01 19:00:00+00:00          -2.911        -5.011   0.0   \n",
       "175342 2010-01-01 20:00:00+00:00          -2.961        -4.911   0.0   \n",
       "175343 2010-01-01 21:00:00+00:00          -2.911        -4.761   0.0   \n",
       "\n",
       "        snowfall  surface_pressure  cloud_cover  et0_fao_evapotranspiration  \\\n",
       "0           0.00       1017.432617    84.599998                    0.000000   \n",
       "1           0.00       1017.335876    83.699997                    0.000000   \n",
       "2           0.00       1017.232788    84.599998                    0.000000   \n",
       "3           0.00       1016.934265    84.599998                    0.000000   \n",
       "4           0.00       1016.632935    82.799995                    0.000000   \n",
       "...          ...               ...          ...                         ...   \n",
       "175339      0.00        995.112122   100.000000                    0.003735   \n",
       "175340      0.00        995.603455   100.000000                    0.002769   \n",
       "175341      0.07        996.304688   100.000000                    0.000725   \n",
       "175342      0.07        997.000488   100.000000                    0.000000   \n",
       "175343      0.07        997.498962   100.000000                    0.000000   \n",
       "\n",
       "        wind_speed_10m  soil_temperature_0_to_7cm  soil_moisture_0_to_7cm  \\\n",
       "0             3.319036                     -0.361                   0.350   \n",
       "1             3.396233                     -0.311                   0.350   \n",
       "2             3.075841                     -0.361                   0.350   \n",
       "3             3.259938                     -0.361                   0.350   \n",
       "4             3.259938                     -0.361                   0.350   \n",
       "...                ...                        ...                     ...   \n",
       "175339       10.805998                     -0.561                   0.368   \n",
       "175340       10.315115                     -0.561                   0.368   \n",
       "175341       10.464797                     -0.561                   0.368   \n",
       "175342        9.983106                     -0.561                   0.368   \n",
       "175343        9.504273                     -0.561                   0.368   \n",
       "\n",
       "            time     month  \n",
       "0       0.916667  1.000000  \n",
       "1       0.958333  1.000000  \n",
       "2       0.000000  0.083333  \n",
       "3       0.041667  0.083333  \n",
       "4       0.083333  0.083333  \n",
       "...          ...       ...  \n",
       "175339  0.708333  0.083333  \n",
       "175340  0.750000  0.083333  \n",
       "175341  0.791667  0.083333  \n",
       "175342  0.833333  0.083333  \n",
       "175343  0.875000  0.083333  \n",
       "\n",
       "[175344 rows x 13 columns]"
      ]
     },
     "execution_count": 259,
     "metadata": {},
     "output_type": "execute_result"
    }
   ],
   "source": [
    "hourly_dataframe\n"
   ]
  },
  {
   "cell_type": "code",
   "execution_count": null,
   "metadata": {},
   "outputs": [],
   "source": [
    "hourly_dataframe.to_csv('data.csv', index=False)  # Set index=False to exclude row numbers from the CSV file"
   ]
  },
  {
   "cell_type": "code",
   "execution_count": 260,
   "metadata": {},
   "outputs": [],
   "source": [
    "training_columns = hourly_dataframe.select_dtypes(include=['float']).columns\n",
    "means = hourly_dataframe[training_columns].mean()\n",
    "stds = hourly_dataframe[training_columns].std()\n",
    "\n",
    "# Normalize the float columns\n",
    "df_normalized = hourly_dataframe[training_columns].apply(lambda x: (x - x.mean()) / x.std())\n",
    "\n",
    "# Convert the normalized DataFrame to a NumPy array\n",
    "normalized_array = df_normalized.to_numpy()"
   ]
  },
  {
   "cell_type": "code",
   "execution_count": 261,
   "metadata": {},
   "outputs": [],
   "source": [
    "def unnormalize_data(normalized_data, means, stds):\n",
    "    # Convert means and stds to numpy arrays if they are pandas Series\n",
    "    if isinstance(means, pd.Series):\n",
    "        means = means.to_numpy()\n",
    "    if isinstance(stds, pd.Series):\n",
    "        stds = stds.to_numpy()\n",
    "    \n",
    "    # Unnormalize the data\n",
    "    unnormalized_data = normalized_data * stds + means\n",
    "    \n",
    "    return unnormalized_data"
   ]
  },
  {
   "cell_type": "code",
   "execution_count": 262,
   "metadata": {},
   "outputs": [
    {
     "data": {
      "text/plain": [
       "(175344, 12)"
      ]
     },
     "execution_count": 262,
     "metadata": {},
     "output_type": "execute_result"
    }
   ],
   "source": [
    "normalized_array.shape"
   ]
  },
  {
   "cell_type": "code",
   "execution_count": 263,
   "metadata": {},
   "outputs": [],
   "source": [
    "import numpy as np"
   ]
  },
  {
   "cell_type": "code",
   "execution_count": 264,
   "metadata": {},
   "outputs": [],
   "source": [
    "def prepare_sequential_data(data, past_window_size, prediction_window_size):\n",
    "\n",
    "    X, y = [], []\n",
    "    total_window_size = past_window_size + prediction_window_size\n",
    "    \n",
    "    for i in range(len(data) - total_window_size + 1):\n",
    "        past_window = data[i:i+past_window_size]\n",
    "        prediction_window = data[i+past_window_size:i+total_window_size]\n",
    "        \n",
    "        X.append(past_window)\n",
    "        y.append(prediction_window)\n",
    "    \n",
    "    return np.array(X), np.array(y)"
   ]
  },
  {
   "cell_type": "code",
   "execution_count": 265,
   "metadata": {},
   "outputs": [],
   "source": [
    "INPUT_WINDOW_SIZE = 72\n",
    "OUTPUT_WINDOW_SIZE = 12\n",
    "NUMBER_OF_FEATURES = 12\n",
    "\n",
    "X, y = prepare_sequential_data(normalized_array, INPUT_WINDOW_SIZE, OUTPUT_WINDOW_SIZE)"
   ]
  },
  {
   "cell_type": "code",
   "execution_count": 266,
   "metadata": {},
   "outputs": [],
   "source": [
    "means, stds\n",
    "\n",
    "means.to_csv('dane\\means9010.csv', index=True) \n",
    "stds.to_csv('dane\\stds9010.csv', index=True) \n",
    "\n",
    "np.save('dane\\X.npy', X)\n",
    "np.save('dane\\y.npy', y)"
   ]
  },
  {
   "cell_type": "code",
   "execution_count": 246,
   "metadata": {},
   "outputs": [],
   "source": [
    "Xload = np.load('dane\\X.npy')\n",
    "yload = np.load('dane\\y.npy')\n",
    "meansloaded = pd.read_csv('dane\\means6080.csv', skiprows=1, header=None)\n",
    "stdsloaded = pd.read_csv('dane\\stds6080.csv', skiprows=1, header=None)"
   ]
  },
  {
   "cell_type": "code",
   "execution_count": 267,
   "metadata": {},
   "outputs": [],
   "source": [
    "\n",
    "def reconstruct_original_data(X, y):\n",
    "\n",
    "    past_window_size = X.shape[1]\n",
    "    prediction_window_size = y.shape[1]\n",
    "    \n",
    "    # Initialize the list to store the reconstructed data\n",
    "    reconstructed_data = []\n",
    "    \n",
    "    # Start with the past window of the first sample\n",
    "    reconstructed_data.extend(X[0])\n",
    "    \n",
    "    for i in range(len(y)):\n",
    "        if i == 0:\n",
    "            # The first prediction window is added directly\n",
    "            reconstructed_data.extend(y[i])\n",
    "        else:\n",
    "            # For subsequent windows, add only the new part of the prediction window\n",
    "            reconstructed_data.extend(y[i][-(prediction_window_size):])\n",
    "    \n",
    "    return np.array(reconstructed_data)\n",
    "\n",
    "\n"
   ]
  },
  {
   "cell_type": "code",
   "execution_count": 268,
   "metadata": {},
   "outputs": [],
   "source": [
    "reconstructed_data = reconstruct_original_data(Xload, yload)\n"
   ]
  },
  {
   "cell_type": "code",
   "execution_count": 269,
   "metadata": {},
   "outputs": [
    {
     "data": {
      "text/plain": [
       "array([[1016.5125389 , 1016.41914686, 1016.31962688, ..., 1022.4600525 ,\n",
       "        1022.75171884, 1023.04857024],\n",
       "       [1016.41914686, 1016.31962688, 1016.03143705, ..., 1022.75171884,\n",
       "        1023.04857024, 1023.34023658],\n",
       "       [1016.31962688, 1016.03143705, 1015.74053691, ..., 1023.04857024,\n",
       "        1023.34023658, 1023.14626389],\n",
       "       ...,\n",
       "       [1004.84772085, 1005.1608347 , 1005.08087702, ...,  991.31635886,\n",
       "         991.31464812,  991.50850303],\n",
       "       [1005.1608347 , 1005.08087702, 1004.5120988 , ...,  991.31464812,\n",
       "         991.50850303,  991.8928552 ],\n",
       "       [1005.08087702, 1004.5120988 , 1003.84709989, ...,  991.50850303,\n",
       "         991.8928552 ,  992.37743301]])"
      ]
     },
     "execution_count": 269,
     "metadata": {},
     "output_type": "execute_result"
    }
   ],
   "source": [
    "(X * stdsloaded[1].to_numpy() + meansloaded[1].to_numpy())[:, :, 4]"
   ]
  },
  {
   "cell_type": "code",
   "execution_count": 270,
   "metadata": {},
   "outputs": [
    {
     "data": {
      "text/plain": [
       "(175261, 12, 12)"
      ]
     },
     "execution_count": 270,
     "metadata": {},
     "output_type": "execute_result"
    }
   ],
   "source": [
    "y.shape"
   ]
  },
  {
   "cell_type": "code",
   "execution_count": 271,
   "metadata": {},
   "outputs": [],
   "source": [
    "import tensorflow as tf\n",
    "from tensorflow.keras.models import Sequential\n",
    "from tensorflow.keras.layers import LSTM, Dense, Reshape, Flatten\n",
    "from tensorflow.keras.callbacks import ModelCheckpoint\n"
   ]
  },
  {
   "cell_type": "code",
   "execution_count": 272,
   "metadata": {},
   "outputs": [],
   "source": [
    "model = Sequential([\n",
    "    LSTM(64, input_shape=(INPUT_WINDOW_SIZE, NUMBER_OF_FEATURES), return_sequences=True),\n",
    "    Flatten(),\n",
    "    Dense(NUMBER_OF_FEATURES*OUTPUT_WINDOW_SIZE),\n",
    "    Dense(NUMBER_OF_FEATURES*OUTPUT_WINDOW_SIZE),\n",
    "    Reshape((OUTPUT_WINDOW_SIZE, NUMBER_OF_FEATURES))  # Adjust units as needed to match the output shape (24, 10)\n",
    "])\n",
    "model.compile(optimizer='adam', loss='mse')\n",
    "checkpoint_path = \"model_9010.h5\"\n",
    "checkpoint_callback = ModelCheckpoint(checkpoint_path, monitor='val_loss', save_best_only=True, mode='min', verbose=1)\n"
   ]
  },
  {
   "cell_type": "code",
   "execution_count": 273,
   "metadata": {},
   "outputs": [
    {
     "name": "stdout",
     "output_type": "stream",
     "text": [
      "Epoch 1/3\n",
      "4382/4382 [==============================] - ETA: 0s - loss: 0.2579\n",
      "Epoch 1: val_loss improved from inf to 0.23870, saving model to model_9010.h5\n",
      "4382/4382 [==============================] - 193s 43ms/step - loss: 0.2579 - val_loss: 0.2387\n",
      "Epoch 2/3\n",
      "   1/4382 [..............................] - ETA: 3:28 - loss: 0.1307"
     ]
    },
    {
     "name": "stderr",
     "output_type": "stream",
     "text": [
      "C:\\Users\\Wojtek Baraniak\\AppData\\Local\\Packages\\PythonSoftwareFoundation.Python.3.8_qbz5n2kfra8p0\\LocalCache\\local-packages\\Python38\\site-packages\\keras\\src\\engine\\training.py:3000: UserWarning: You are saving your model as an HDF5 file via `model.save()`. This file format is considered legacy. We recommend using instead the native Keras format, e.g. `model.save('my_model.keras')`.\n",
      "  saving_api.save_model(\n"
     ]
    },
    {
     "name": "stdout",
     "output_type": "stream",
     "text": [
      "4382/4382 [==============================] - ETA: 0s - loss: 0.2357\n",
      "Epoch 2: val_loss improved from 0.23870 to 0.23527, saving model to model_9010.h5\n",
      "4382/4382 [==============================] - 199s 45ms/step - loss: 0.2357 - val_loss: 0.2353\n",
      "Epoch 3/3\n",
      "4381/4382 [============================>.] - ETA: 0s - loss: 0.2303\n",
      "Epoch 3: val_loss improved from 0.23527 to 0.23229, saving model to model_9010.h5\n",
      "4382/4382 [==============================] - 245s 56ms/step - loss: 0.2303 - val_loss: 0.2323\n"
     ]
    },
    {
     "data": {
      "text/plain": [
       "<keras.src.callbacks.History at 0x2ba09a57940>"
      ]
     },
     "execution_count": 273,
     "metadata": {},
     "output_type": "execute_result"
    }
   ],
   "source": [
    "# Example data shapes: X_train.shape = (samples, 72, 10), y_train.shape = (samples, 24, 10)\n",
    "batch_size = 32\n",
    "epochs = 3\n",
    "\n",
    "model.fit(X, y, batch_size=batch_size, epochs=epochs, validation_split=0.2, callbacks=[checkpoint_callback])\n"
   ]
  },
  {
   "cell_type": "code",
   "execution_count": null,
   "metadata": {},
   "outputs": [
    {
     "name": "stdout",
     "output_type": "stream",
     "text": [
      "1/1 [==============================] - 0s 43ms/step\n"
     ]
    }
   ],
   "source": [
    "predict = (model.predict(X[:5]) * stdsloaded[1].to_numpy() + meansloaded[1].to_numpy())"
   ]
  },
  {
   "cell_type": "code",
   "execution_count": 231,
   "metadata": {},
   "outputs": [
    {
     "data": {
      "text/plain": [
       "(5, 72, 12)"
      ]
     },
     "execution_count": 231,
     "metadata": {},
     "output_type": "execute_result"
    }
   ],
   "source": [
    "X[:5].shape"
   ]
  },
  {
   "cell_type": "code",
   "execution_count": 234,
   "metadata": {},
   "outputs": [
    {
     "data": {
      "text/plain": [
       "(5, 12, 12)"
      ]
     },
     "execution_count": 234,
     "metadata": {},
     "output_type": "execute_result"
    }
   ],
   "source": [
    "predict.shape"
   ]
  },
  {
   "cell_type": "code",
   "execution_count": 232,
   "metadata": {},
   "outputs": [
    {
     "data": {
      "text/plain": [
       "(5, 12)"
      ]
     },
     "execution_count": 232,
     "metadata": {},
     "output_type": "execute_result"
    }
   ],
   "source": [
    "sequence_prediction = predict[:, 0]\n",
    "sequence_prediction.shape"
   ]
  },
  {
   "cell_type": "code",
   "execution_count": 256,
   "metadata": {},
   "outputs": [],
   "source": [
    "df = pd.DataFrame(sequence_prediction)\n",
    "df.columns = stdsloaded[0]\n",
    "df['month'] = (df['month']*12).astype(int)\n",
    "df['time'] = (df['time']*24).astype(int)"
   ]
  },
  {
   "cell_type": "code",
   "execution_count": 257,
   "metadata": {},
   "outputs": [
    {
     "data": {
      "text/html": [
       "<div>\n",
       "<style scoped>\n",
       "    .dataframe tbody tr th:only-of-type {\n",
       "        vertical-align: middle;\n",
       "    }\n",
       "\n",
       "    .dataframe tbody tr th {\n",
       "        vertical-align: top;\n",
       "    }\n",
       "\n",
       "    .dataframe thead th {\n",
       "        text-align: right;\n",
       "    }\n",
       "</style>\n",
       "<table border=\"1\" class=\"dataframe\">\n",
       "  <thead>\n",
       "    <tr style=\"text-align: right;\">\n",
       "      <th></th>\n",
       "      <th>temperature_2m</th>\n",
       "      <th>dew_point_2m</th>\n",
       "      <th>rain</th>\n",
       "      <th>snowfall</th>\n",
       "      <th>surface_pressure</th>\n",
       "      <th>cloud_cover</th>\n",
       "      <th>et0_fao_evapotranspiration</th>\n",
       "      <th>wind_speed_10m</th>\n",
       "      <th>soil_temperature_0_to_7cm</th>\n",
       "      <th>soil_moisture_0_to_7cm</th>\n",
       "      <th>time</th>\n",
       "      <th>month</th>\n",
       "    </tr>\n",
       "  </thead>\n",
       "  <tbody>\n",
       "    <tr>\n",
       "      <th>0</th>\n",
       "      <td>2.614850</td>\n",
       "      <td>0.480985</td>\n",
       "      <td>0.088726</td>\n",
       "      <td>-0.014858</td>\n",
       "      <td>1000.012901</td>\n",
       "      <td>80.019820</td>\n",
       "      <td>0.036810</td>\n",
       "      <td>15.134235</td>\n",
       "      <td>2.912408</td>\n",
       "      <td>0.380317</td>\n",
       "      <td>21</td>\n",
       "      <td>1</td>\n",
       "    </tr>\n",
       "    <tr>\n",
       "      <th>1</th>\n",
       "      <td>2.616761</td>\n",
       "      <td>0.906959</td>\n",
       "      <td>0.096469</td>\n",
       "      <td>-0.015229</td>\n",
       "      <td>999.793066</td>\n",
       "      <td>74.730668</td>\n",
       "      <td>0.031107</td>\n",
       "      <td>13.965767</td>\n",
       "      <td>2.684157</td>\n",
       "      <td>0.379344</td>\n",
       "      <td>23</td>\n",
       "      <td>1</td>\n",
       "    </tr>\n",
       "    <tr>\n",
       "      <th>2</th>\n",
       "      <td>2.830885</td>\n",
       "      <td>0.528426</td>\n",
       "      <td>0.067722</td>\n",
       "      <td>-0.013225</td>\n",
       "      <td>999.534081</td>\n",
       "      <td>63.595867</td>\n",
       "      <td>0.038523</td>\n",
       "      <td>16.286743</td>\n",
       "      <td>2.822498</td>\n",
       "      <td>0.375378</td>\n",
       "      <td>0</td>\n",
       "      <td>1</td>\n",
       "    </tr>\n",
       "    <tr>\n",
       "      <th>3</th>\n",
       "      <td>2.798419</td>\n",
       "      <td>0.419022</td>\n",
       "      <td>-0.045237</td>\n",
       "      <td>-0.016207</td>\n",
       "      <td>998.978918</td>\n",
       "      <td>46.643071</td>\n",
       "      <td>0.044044</td>\n",
       "      <td>16.803752</td>\n",
       "      <td>2.463991</td>\n",
       "      <td>0.375158</td>\n",
       "      <td>1</td>\n",
       "      <td>1</td>\n",
       "    </tr>\n",
       "    <tr>\n",
       "      <th>4</th>\n",
       "      <td>2.626750</td>\n",
       "      <td>-0.416102</td>\n",
       "      <td>0.034539</td>\n",
       "      <td>-0.012433</td>\n",
       "      <td>999.206236</td>\n",
       "      <td>47.721638</td>\n",
       "      <td>0.046697</td>\n",
       "      <td>17.062625</td>\n",
       "      <td>2.073430</td>\n",
       "      <td>0.378415</td>\n",
       "      <td>3</td>\n",
       "      <td>1</td>\n",
       "    </tr>\n",
       "  </tbody>\n",
       "</table>\n",
       "</div>"
      ],
      "text/plain": [
       "0  temperature_2m  dew_point_2m      rain  snowfall  surface_pressure  \\\n",
       "0        2.614850      0.480985  0.088726 -0.014858       1000.012901   \n",
       "1        2.616761      0.906959  0.096469 -0.015229        999.793066   \n",
       "2        2.830885      0.528426  0.067722 -0.013225        999.534081   \n",
       "3        2.798419      0.419022 -0.045237 -0.016207        998.978918   \n",
       "4        2.626750     -0.416102  0.034539 -0.012433        999.206236   \n",
       "\n",
       "0  cloud_cover  et0_fao_evapotranspiration  wind_speed_10m  \\\n",
       "0    80.019820                    0.036810       15.134235   \n",
       "1    74.730668                    0.031107       13.965767   \n",
       "2    63.595867                    0.038523       16.286743   \n",
       "3    46.643071                    0.044044       16.803752   \n",
       "4    47.721638                    0.046697       17.062625   \n",
       "\n",
       "0  soil_temperature_0_to_7cm  soil_moisture_0_to_7cm  time  month  \n",
       "0                   2.912408                0.380317    21      1  \n",
       "1                   2.684157                0.379344    23      1  \n",
       "2                   2.822498                0.375378     0      1  \n",
       "3                   2.463991                0.375158     1      1  \n",
       "4                   2.073430                0.378415     3      1  "
      ]
     },
     "execution_count": 257,
     "metadata": {},
     "output_type": "execute_result"
    }
   ],
   "source": [
    "df"
   ]
  },
  {
   "cell_type": "code",
   "execution_count": null,
   "metadata": {},
   "outputs": [],
   "source": [
    "# ostatnie trzy dni jako np.ndarray (1, 72, 12)\n",
    "predict.reshape(1, 5, 12,12).shape"
   ]
  }
 ],
 "metadata": {
  "kernelspec": {
   "display_name": "Python 3",
   "language": "python",
   "name": "python3"
  },
  "language_info": {
   "codemirror_mode": {
    "name": "ipython",
    "version": 3
   },
   "file_extension": ".py",
   "mimetype": "text/x-python",
   "name": "python",
   "nbconvert_exporter": "python",
   "pygments_lexer": "ipython3",
   "version": "3.8.10"
  }
 },
 "nbformat": 4,
 "nbformat_minor": 2
}
